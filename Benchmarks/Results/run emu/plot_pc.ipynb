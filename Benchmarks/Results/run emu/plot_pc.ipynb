{
 "cells": [
  {
   "cell_type": "code",
   "execution_count": 1,
   "id": "closing-discharge",
   "metadata": {},
   "outputs": [],
   "source": [
    "import pandas as pd\n",
    "import numpy as np\n",
    "from matplotlib import pyplot as plt\n",
    "%matplotlib inline"
   ]
  },
  {
   "cell_type": "code",
   "execution_count": 2,
   "id": "perfect-delhi",
   "metadata": {},
   "outputs": [],
   "source": [
    "final_opt = pd.read_csv(\"opt\"+str(0+1)+\".txt\",sep='\\t',names=['i', 'avg_time','avg_hash'])\n",
    "final_naive = pd.read_csv(\"naive\"+str(0+1)+\".txt\",sep='\\t',names=['i', 'avg_time','avg_hash'])\n",
    "final_opt['n'] = 2**final_opt['i']\n",
    "final_naive['n'] = 2**final_naive['i']"
   ]
  },
  {
   "cell_type": "code",
   "execution_count": 3,
   "id": "scheduled-contrary",
   "metadata": {},
   "outputs": [
    {
     "data": {
      "text/plain": [
       "3396.89348"
      ]
     },
     "execution_count": 3,
     "metadata": {},
     "output_type": "execute_result"
    }
   ],
   "source": [
    "final_naive['avg_hash'].mean()"
   ]
  },
  {
   "cell_type": "code",
   "execution_count": 4,
   "id": "binary-leave",
   "metadata": {},
   "outputs": [
    {
     "data": {
      "text/plain": [
       "3585.8615"
      ]
     },
     "execution_count": 4,
     "metadata": {},
     "output_type": "execute_result"
    }
   ],
   "source": [
    "max(final_naive['avg_hash'])"
   ]
  },
  {
   "cell_type": "code",
   "execution_count": 5,
   "id": "laden-bible",
   "metadata": {},
   "outputs": [
    {
     "data": {
      "text/plain": [
       "1834.8624"
      ]
     },
     "execution_count": 5,
     "metadata": {},
     "output_type": "execute_result"
    }
   ],
   "source": [
    "min(final_naive['avg_hash'])"
   ]
  },
  {
   "cell_type": "code",
   "execution_count": 6,
   "id": "imposed-bible",
   "metadata": {},
   "outputs": [
    {
     "data": {
      "text/plain": [
       "6915.0869250000005"
      ]
     },
     "execution_count": 6,
     "metadata": {},
     "output_type": "execute_result"
    }
   ],
   "source": [
    "final_opt['avg_hash'].mean()"
   ]
  },
  {
   "cell_type": "code",
   "execution_count": 7,
   "id": "weird-intelligence",
   "metadata": {},
   "outputs": [
    {
     "data": {
      "text/plain": [
       "8196.6233"
      ]
     },
     "execution_count": 7,
     "metadata": {},
     "output_type": "execute_result"
    }
   ],
   "source": [
    "max(final_opt['avg_hash'])"
   ]
  },
  {
   "cell_type": "code",
   "execution_count": 8,
   "id": "creative-physiology",
   "metadata": {},
   "outputs": [
    {
     "data": {
      "text/plain": [
       "3676.4706"
      ]
     },
     "execution_count": 8,
     "metadata": {},
     "output_type": "execute_result"
    }
   ],
   "source": [
    "min(final_opt['avg_hash'])"
   ]
  },
  {
   "cell_type": "code",
   "execution_count": 9,
   "id": "regional-solid",
   "metadata": {},
   "outputs": [],
   "source": [
    "x = final_opt['avg_hash']/final_naive['avg_hash']"
   ]
  },
  {
   "cell_type": "code",
   "execution_count": 10,
   "id": "decimal-newcastle",
   "metadata": {},
   "outputs": [
    {
     "data": {
      "text/plain": [
       "count    20.000000\n",
       "mean      2.063823\n",
       "std       0.336673\n",
       "min       1.033337\n",
       "25%       2.015451\n",
       "50%       2.026059\n",
       "75%       2.057153\n",
       "max       3.022181\n",
       "Name: avg_hash, dtype: float64"
      ]
     },
     "execution_count": 10,
     "metadata": {},
     "output_type": "execute_result"
    }
   ],
   "source": [
    "x.describe()"
   ]
  },
  {
   "cell_type": "code",
   "execution_count": 11,
   "id": "dirty-wages",
   "metadata": {},
   "outputs": [],
   "source": [
    "result = pd.merge(final_naive,final_opt,on=[\"n\",\"i\"])"
   ]
  },
  {
   "cell_type": "code",
   "execution_count": 24,
   "id": "generic-watershed",
   "metadata": {},
   "outputs": [
    {
     "name": "stdout",
     "output_type": "stream",
     "text": [
      "\\begin{tabular}{rrr}\n",
      "\\toprule\n",
      "       n &  avg\\_hash\\_x &  avg\\_hash\\_y \\\\\n",
      "\\midrule\n",
      "       2 &   3557.8614 &   3676.4706 \\\\\n",
      "       4 &   1834.8624 &   5545.2865 \\\\\n",
      "       8 &   2754.8209 &   6465.4857 \\\\\n",
      "      16 &   3216.9118 &   6944.4444 \\\\\n",
      "      32 &   3448.2759 &   7179.2497 \\\\\n",
      "      64 &   3285.2904 &   6722.8684 \\\\\n",
      "     128 &   3585.8615 &   7346.9860 \\\\\n",
      "     256 &   3556.1280 &   7223.7960 \\\\\n",
      "     512 &   3568.4299 &   7234.3739 \\\\\n",
      "    1024 &   3553.5466 &   8196.6233 \\\\\n",
      "    2048 &   3563.7149 &   7217.7598 \\\\\n",
      "    4096 &   3542.0495 &   7178.9208 \\\\\n",
      "    8192 &   3559.8976 &   7154.5116 \\\\\n",
      "   16384 &   3557.0436 &   7177.0398 \\\\\n",
      "   32768 &   3555.6086 &   7173.5082 \\\\\n",
      "   65536 &   3557.6478 &   7167.1899 \\\\\n",
      "  131072 &   3558.4293 &   7172.5261 \\\\\n",
      "  262144 &   3559.6915 &   7173.3474 \\\\\n",
      "  524288 &   3561.3188 &   7175.0318 \\\\\n",
      " 1048576 &   3560.4792 &   7176.3186 \\\\\n",
      "\\bottomrule\n",
      "\\end{tabular}\n",
      "\n"
     ]
    }
   ],
   "source": [
    "print(result[['n','avg_hash_x','avg_hash_y']].to_latex(index=False))"
   ]
  },
  {
   "cell_type": "code",
   "execution_count": 12,
   "id": "9a76db7a",
   "metadata": {},
   "outputs": [
    {
     "data": {
      "text/html": [
       "<div>\n",
       "<style scoped>\n",
       "    .dataframe tbody tr th:only-of-type {\n",
       "        vertical-align: middle;\n",
       "    }\n",
       "\n",
       "    .dataframe tbody tr th {\n",
       "        vertical-align: top;\n",
       "    }\n",
       "\n",
       "    .dataframe thead th {\n",
       "        text-align: right;\n",
       "    }\n",
       "</style>\n",
       "<table border=\"1\" class=\"dataframe\">\n",
       "  <thead>\n",
       "    <tr style=\"text-align: right;\">\n",
       "      <th></th>\n",
       "      <th>i</th>\n",
       "      <th>avg_time</th>\n",
       "      <th>avg_hash</th>\n",
       "      <th>n</th>\n",
       "    </tr>\n",
       "  </thead>\n",
       "  <tbody>\n",
       "    <tr>\n",
       "      <th>0</th>\n",
       "      <td>1</td>\n",
       "      <td>0.0003</td>\n",
       "      <td>3676.4706</td>\n",
       "      <td>2</td>\n",
       "    </tr>\n",
       "    <tr>\n",
       "      <th>1</th>\n",
       "      <td>2</td>\n",
       "      <td>0.0005</td>\n",
       "      <td>5545.2865</td>\n",
       "      <td>4</td>\n",
       "    </tr>\n",
       "    <tr>\n",
       "      <th>2</th>\n",
       "      <td>3</td>\n",
       "      <td>0.0011</td>\n",
       "      <td>6465.4857</td>\n",
       "      <td>8</td>\n",
       "    </tr>\n",
       "    <tr>\n",
       "      <th>3</th>\n",
       "      <td>4</td>\n",
       "      <td>0.0022</td>\n",
       "      <td>6944.4444</td>\n",
       "      <td>16</td>\n",
       "    </tr>\n",
       "    <tr>\n",
       "      <th>4</th>\n",
       "      <td>5</td>\n",
       "      <td>0.0043</td>\n",
       "      <td>7179.2497</td>\n",
       "      <td>32</td>\n",
       "    </tr>\n",
       "    <tr>\n",
       "      <th>5</th>\n",
       "      <td>6</td>\n",
       "      <td>0.0094</td>\n",
       "      <td>6722.8684</td>\n",
       "      <td>64</td>\n",
       "    </tr>\n",
       "    <tr>\n",
       "      <th>6</th>\n",
       "      <td>7</td>\n",
       "      <td>0.0173</td>\n",
       "      <td>7346.9860</td>\n",
       "      <td>128</td>\n",
       "    </tr>\n",
       "    <tr>\n",
       "      <th>7</th>\n",
       "      <td>8</td>\n",
       "      <td>0.0353</td>\n",
       "      <td>7223.7960</td>\n",
       "      <td>256</td>\n",
       "    </tr>\n",
       "    <tr>\n",
       "      <th>8</th>\n",
       "      <td>9</td>\n",
       "      <td>0.0706</td>\n",
       "      <td>7234.3739</td>\n",
       "      <td>512</td>\n",
       "    </tr>\n",
       "    <tr>\n",
       "      <th>9</th>\n",
       "      <td>10</td>\n",
       "      <td>0.1421</td>\n",
       "      <td>8196.6233</td>\n",
       "      <td>1024</td>\n",
       "    </tr>\n",
       "    <tr>\n",
       "      <th>10</th>\n",
       "      <td>11</td>\n",
       "      <td>0.2836</td>\n",
       "      <td>7217.7598</td>\n",
       "      <td>2048</td>\n",
       "    </tr>\n",
       "    <tr>\n",
       "      <th>11</th>\n",
       "      <td>12</td>\n",
       "      <td>0.5704</td>\n",
       "      <td>7178.9208</td>\n",
       "      <td>4096</td>\n",
       "    </tr>\n",
       "    <tr>\n",
       "      <th>12</th>\n",
       "      <td>13</td>\n",
       "      <td>1.1449</td>\n",
       "      <td>7154.5116</td>\n",
       "      <td>8192</td>\n",
       "    </tr>\n",
       "    <tr>\n",
       "      <th>13</th>\n",
       "      <td>14</td>\n",
       "      <td>2.2827</td>\n",
       "      <td>7177.0398</td>\n",
       "      <td>16384</td>\n",
       "    </tr>\n",
       "    <tr>\n",
       "      <th>14</th>\n",
       "      <td>15</td>\n",
       "      <td>4.5678</td>\n",
       "      <td>7173.5082</td>\n",
       "      <td>32768</td>\n",
       "    </tr>\n",
       "    <tr>\n",
       "      <th>15</th>\n",
       "      <td>16</td>\n",
       "      <td>9.1438</td>\n",
       "      <td>7167.1899</td>\n",
       "      <td>65536</td>\n",
       "    </tr>\n",
       "    <tr>\n",
       "      <th>16</th>\n",
       "      <td>17</td>\n",
       "      <td>18.2740</td>\n",
       "      <td>7172.5261</td>\n",
       "      <td>131072</td>\n",
       "    </tr>\n",
       "    <tr>\n",
       "      <th>17</th>\n",
       "      <td>18</td>\n",
       "      <td>36.5440</td>\n",
       "      <td>7173.3474</td>\n",
       "      <td>262144</td>\n",
       "    </tr>\n",
       "    <tr>\n",
       "      <th>18</th>\n",
       "      <td>19</td>\n",
       "      <td>73.0710</td>\n",
       "      <td>7175.0318</td>\n",
       "      <td>524288</td>\n",
       "    </tr>\n",
       "    <tr>\n",
       "      <th>19</th>\n",
       "      <td>20</td>\n",
       "      <td>146.1160</td>\n",
       "      <td>7176.3186</td>\n",
       "      <td>1048576</td>\n",
       "    </tr>\n",
       "  </tbody>\n",
       "</table>\n",
       "</div>"
      ],
      "text/plain": [
       "     i  avg_time   avg_hash        n\n",
       "0    1    0.0003  3676.4706        2\n",
       "1    2    0.0005  5545.2865        4\n",
       "2    3    0.0011  6465.4857        8\n",
       "3    4    0.0022  6944.4444       16\n",
       "4    5    0.0043  7179.2497       32\n",
       "5    6    0.0094  6722.8684       64\n",
       "6    7    0.0173  7346.9860      128\n",
       "7    8    0.0353  7223.7960      256\n",
       "8    9    0.0706  7234.3739      512\n",
       "9   10    0.1421  8196.6233     1024\n",
       "10  11    0.2836  7217.7598     2048\n",
       "11  12    0.5704  7178.9208     4096\n",
       "12  13    1.1449  7154.5116     8192\n",
       "13  14    2.2827  7177.0398    16384\n",
       "14  15    4.5678  7173.5082    32768\n",
       "15  16    9.1438  7167.1899    65536\n",
       "16  17   18.2740  7172.5261   131072\n",
       "17  18   36.5440  7173.3474   262144\n",
       "18  19   73.0710  7175.0318   524288\n",
       "19  20  146.1160  7176.3186  1048576"
      ]
     },
     "execution_count": 12,
     "metadata": {},
     "output_type": "execute_result"
    }
   ],
   "source": [
    "final_opt"
   ]
  },
  {
   "cell_type": "code",
   "execution_count": 15,
   "id": "sunrise-boundary",
   "metadata": {},
   "outputs": [],
   "source": [
    "from cycler import cycler\n",
    "import matplotlib as mpl\n",
    "mpl.rcParams['axes.prop_cycle'] = cycler(color=['tab:red', 'tab:green', 'b', 'y'])"
   ]
  },
  {
   "cell_type": "code",
   "execution_count": 11,
   "id": "lasting-stick",
   "metadata": {},
   "outputs": [
    {
     "data": {
      "image/png": "[encoded data removed]",
      "text/plain": [
       "<Figure size 432x288 with 1 Axes>"
      ]
     },
     "metadata": {
      "needs_background": "light"
     },
     "output_type": "display_data"
    }
   ],
   "source": [
    "ax = final_naive.plot(x=\"n\",y=\"avg_time\")\n",
    "final_opt.plot(x=\"n\",y=\"avg_time\",ax=ax)\n",
    "ax.set(xlabel = \"Number of iterations\",ylabel = \"Average Time(s)\")\n",
    "ax.legend(['Naive SHA-256','Optimized SHA-256'])\n",
    "plt.grid()\n",
    "plt.savefig(\"emu_t_vs_n.png\",bbox_inches=\"tight\",dpi=1000)"
   ]
  },
  {
   "cell_type": "code",
   "execution_count": 12,
   "id": "advisory-disorder",
   "metadata": {},
   "outputs": [
    {
     "data": {
      "image/png": "[encoded data removed]",
      "text/plain": [
       "<Figure size 432x288 with 1 Axes>"
      ]
     },
     "metadata": {
      "needs_background": "light"
     },
     "output_type": "display_data"
    }
   ],
   "source": [
    "ax = final_naive.plot(x=\"n\",y=\"avg_hash\")\n",
    "final_opt.plot(x=\"n\",y=\"avg_hash\",ax=ax)\n",
    "ax.set(xlabel = \"Number of iterations\",ylabel = \"Hashrate\")\n",
    "ax.legend(['Naive SHA-256','Optimized SHA-256'])\n",
    "plt.grid()\n",
    "plt.savefig(\"emu_h_vs_n.png\",bbox_inches=\"tight\",dpi=1000)"
   ]
  },
  {
   "cell_type": "code",
   "execution_count": 16,
   "id": "numeric-macedonia",
   "metadata": {},
   "outputs": [
    {
     "data": {
      "image/png": "[encoded data removed]",
      "text/plain": [
       "<Figure size 432x288 with 1 Axes>"
      ]
     },
     "metadata": {
      "needs_background": "light"
     },
     "output_type": "display_data"
    }
   ],
   "source": [
    "ax = final_naive.plot(x=\"i\",y=\"avg_hash\")\n",
    "final_opt.plot(x=\"i\",y=\"avg_hash\",ax=ax)\n",
    "ax.set(xlabel = \"Log\\N{SUBSCRIPT TWO}(number of iterations)\",ylabel = \"Hashrate\")\n",
    "ax.legend(['Naive SHA-256','Optimized SHA-256'])\n",
    "plt.grid()\n",
    "plt.savefig(\"emu_h_vs_i.pdf\",bbox_inches=\"tight\",dpi=1000)"
   ]
  },
  {
   "cell_type": "code",
   "execution_count": 14,
   "id": "exclusive-sender",
   "metadata": {},
   "outputs": [
    {
     "data": {
      "image/png": "[encoded data removed]",
      "text/plain": [
       "<Figure size 432x288 with 1 Axes>"
      ]
     },
     "metadata": {
      "needs_background": "light"
     },
     "output_type": "display_data"
    }
   ],
   "source": [
    "ax = final_naive.plot(x=\"i\",y=\"avg_time\")\n",
    "final_opt.plot(x=\"i\",y=\"avg_time\",ax=ax)\n",
    "ax.set(xlabel = \"Log\\N{SUBSCRIPT TWO}(number of iterations)\",ylabel = \"Execution Time(s)\")\n",
    "ax.legend(['Naive SHA-256','Optimized SHA-256'])\n",
    "plt.grid()\n",
    "plt.savefig(\"emu_t_vs_i.png\",bbox_inches=\"tight\",dpi=1000)"
   ]
  },
  {
   "cell_type": "code",
   "execution_count": null,
   "id": "cellular-conclusion",
   "metadata": {},
   "outputs": [],
   "source": []
  }
 ],
 "metadata": {
  "kernelspec": {
   "display_name": "Python 3",
   "language": "python",
   "name": "python3"
  },
  "language_info": {
   "codemirror_mode": {
    "name": "ipython",
    "version": 3
   },
   "file_extension": ".py",
   "mimetype": "text/x-python",
   "name": "python",
   "nbconvert_exporter": "python",
   "pygments_lexer": "ipython3",
   "version": "3.8.2"
  }
 },
 "nbformat": 4,
 "nbformat_minor": 5
}
